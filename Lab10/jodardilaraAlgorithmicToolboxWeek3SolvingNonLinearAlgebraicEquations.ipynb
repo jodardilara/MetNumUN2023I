{
  "nbformat": 4,
  "nbformat_minor": 0,
  "metadata": {
    "kernelspec": {
      "display_name": "Python 3",
      "language": "python",
      "name": "python3"
    },
    "language_info": {
      "codemirror_mode": {
        "name": "ipython",
        "version": 3
      },
      "file_extension": ".py",
      "mimetype": "text/x-python",
      "name": "python",
      "nbconvert_exporter": "python",
      "pygments_lexer": "ipython3",
      "version": "3.5.2"
    },
    "colab": {
      "provenance": []
    }
  },
  "cells": [
    {
      "cell_type": "markdown",
      "metadata": {
        "id": "h2TxjE6ST95B"
      },
      "source": [
        "# Part I. Root-finding. Newton's iteration."
      ]
    },
    {
      "cell_type": "markdown",
      "metadata": {
        "id": "_qFXBbLXT95F"
      },
      "source": [
        "Write a function which performs Newton's iteration for a given function $f(x)$ with known derivative $f'(x)$. Your function should find the root of $f(x)$ with a predefined absolute accuracy $\\epsilon$. "
      ]
    },
    {
      "cell_type": "code",
      "metadata": {
        "collapsed": true,
        "id": "chRy1mRpT95F"
      },
      "source": [
        "def newton_iteration(f, fder, x0, eps=1e-5, maxiter=1000):   \n",
        "\tx_n = x0 # initial guess for root\n",
        "    \n",
        "\tfor n in range(maxiter):\n",
        "        \n",
        "\t\tf_val = f(x_n)\n",
        "\t\tf_der_val = fder(x_n)\n",
        "\n",
        "\t\tif abs(f_val) < eps:\n",
        "\t\t\treturn x_n,n\n",
        "\n",
        "\t\tif abs(f_der_val) < 1e-14:\n",
        "\t\t\traise ValueError(\"The derivative was close to zero\")\n",
        "            \n",
        "         #calculate next iterate using Newton´s formula   \n",
        "            \n",
        "         #x[n+1] = xn - [f(xn)/f'(xn)]\n",
        "         \n",
        "\t\tdelta_xn = -f_val / f_der_val\n",
        "        \n",
        "\t\tx_new= x_n + delta_xn\n",
        "\t\t\n",
        "\t\tif abs(delta_xn)<eps*abs(x_new): # check for convergence\n",
        "\t\t\treturn x_new,n+1\n",
        "        \n",
        "\t\tx_n = x_new\n",
        "     \n",
        "\traise ValueError(\"Maximum number of iterations exceeded\")"
      ],
      "execution_count": null,
      "outputs": []
    },
    {
      "cell_type": "markdown",
      "metadata": {
        "id": "qGsOVPqwT95G"
      },
      "source": [
        "### Test I.1 \n",
        "\n",
        "Test your implementation on a simple example, $f(x) = x^2 - 1$ or similar. (20% of the total grade)"
      ]
    },
    {
      "cell_type": "code",
      "metadata": {
        "collapsed": true,
        "id": "ggan1StnT95H",
        "colab": {
          "base_uri": "https://localhost:8080/"
        },
        "outputId": "e4c01513-61b8-4400-f828-909d0deea49a"
      },
      "source": [
        "import math\n",
        "\n",
        "def f(x):\n",
        "    return x**2 - 1\n",
        "\n",
        "def fder(x):\n",
        "    return 2*x\n",
        "\n",
        "# Test newton_iteration with f(x) = x^2 - 1\n",
        "x0 = 3.0 # initial guess for root\n",
        "eps = 1e-6 # target accuracy\n",
        "\n",
        "x,n_iter = newton_iteration(f, fder, x0, eps=eps)\n",
        "\n",
        "print(\"Test passed: found a root of function {} after {} iterations\".format(f.__name__, n_iter))"
      ],
      "execution_count": null,
      "outputs": [
        {
          "output_type": "stream",
          "name": "stdout",
          "text": [
            "Test passed: found a root of function f after 5 iterations\n"
          ]
        }
      ]
    },
    {
      "cell_type": "markdown",
      "metadata": {
        "id": "wzkKQBL7T95H"
      },
      "source": [
        "### Test I.2\n",
        "\n",
        "Now consider a function which has a multiple root. Take $f(x) = (x^2 - 1)^2$ as an example. Implement a modified Newton's iteraion,\n",
        "\n",
        "$$\n",
        "x_{n+1} = x_{n} - m \\frac{f(x_n)}{f'(x_n)}\n",
        "$$\n",
        "\n",
        "and vary $m= 1, 2, 3, 4, 5$. Check the number of iterations required for convergence within a fixed $\\epsilon$. Are your observations consistent with the expectation that the convergence is quadratic is $m$ equals the multiplicity of the root, and is linear otherwise? (40% of the total grade)"
      ]
    },
    {
      "cell_type": "code",
      "metadata": {
        "collapsed": true,
        "id": "OIx5yP-9T95I"
      },
      "source": [
        "def modified_newton_iteration(f, fder, x0, m=1.0, eps=1e-5):\n",
        "\tx_n = x0 # initial guess\n",
        "    \n",
        "\tfor n in range(100): # limit on number of iterations\n",
        "        \n",
        "         #calculate next iterate using Modified Newton´s formula   \n",
        "            \n",
        "         #xn+1=xn−m*f(xn)/f'(xn)\n",
        "         \n",
        "\t\tf_val = f(x_n)\n",
        "        \n",
        "\t\tif abs(f_val) < eps:\n",
        "\t\t\treturn x_n,n\n",
        "\n",
        "# \t\tif abs(fder(x_n)) < 1e-14:\n",
        "# \t\t\traise ValueError(\"The derivative was close to zero\")\n",
        "            \n",
        "\t\tdelta_xn = -m*f_val / fder(x_n)\n",
        "        \n",
        "\t\tx_new= x_n + delta_xn\n",
        "\t\t\n",
        "\t\tif abs(delta_xn)<eps*abs(x_new): # check for convergence\n",
        "\t\t\treturn x_new,n+1\n",
        "        \n",
        "\t\tx_n = x_new\n",
        "     \n",
        "\traise ValueError(\"Maximum number of iterations exceeded\")"
      ],
      "execution_count": null,
      "outputs": []
    },
    {
      "cell_type": "markdown",
      "metadata": {
        "id": "T9om2b1lT95I"
      },
      "source": [
        "# Part II. Fixed-point iteration"
      ]
    },
    {
      "cell_type": "markdown",
      "metadata": {
        "id": "urnNPsOKT95J"
      },
      "source": [
        "* *texto en cursiva*Consider* the following equation:\n",
        "\n",
        "$$\n",
        "\\sqrt{x} = \\cos{x}\n",
        "$$\n",
        "\n",
        "Plot the left-hand side and right-hand side of this equation, and localize the root graphically. Estimate the location of the root by visual inspection of the plot.\n",
        "\n",
        "Write a function which finds the solution using fixed-point iteration up to a predefined accuracy $\\epsilon$. Compare the result to an estimate from a visual inspection.\n",
        "\n",
        "Next, rewrite the fixed-point problem in the form\n",
        "\n",
        "$$\n",
        "x = x - \\alpha f(x)\n",
        "$$\n",
        "\n",
        "where $\\alpha$ is the free parameter. Check the dependence of the number of iterations required for a given $\\epsilon$ on $\\alpha$. Compare your results to an expectation that the optimal value of $\\alpha$ is given by \n",
        "\n",
        "$$\n",
        "\\alpha = \\frac{2}{m + M}\n",
        "$$\n",
        "\n",
        "where $0 < m < |f'(x)| < M$ over the localization interval. (40% of the total grade)"
      ]
    },
    {
      "cell_type": "code",
      "source": [
        "import numpy as np\n",
        "import matplotlib.pyplot as plt\n",
        "\n",
        "def f(x):\n",
        "    return np.sqrt(x) - np.cos(x)\n",
        "\n",
        "\n",
        "x = np.linspace(0, 10, 1000)\n",
        "plt.plot(x, np.sqrt(x), label='sqrt(x)')\n",
        "plt.plot(x, np.cos(x), label='cos(x)')\n",
        "plt.legend()\n",
        "plt.show()\n"
      ],
      "metadata": {
        "colab": {
          "base_uri": "https://localhost:8080/",
          "height": 430
        },
        "id": "YSVXY2bnefAR",
        "outputId": "ade6cdf9-928a-463b-8ec0-b8828dff8d04"
      },
      "execution_count": 2,
      "outputs": [
        {
          "output_type": "display_data",
          "data": {
            "text/plain": [
              "<Figure size 640x480 with 1 Axes>"
            ],
            "image/png": "[encoded data removed]"
          },
          "metadata": {}
        }
      ]
    },
    {
      "cell_type": "code",
      "source": [
        "def g(x):\n",
        "    return np.cos(x)**2\n",
        "\n",
        "def fixed_point_iteration(g, x0, eps):\n",
        "    x = x0\n",
        "    n = 0\n",
        "    while True:\n",
        "        x_new = g(x)\n",
        "        if abs(x_new - x) < eps:\n",
        "            return x_new, n\n",
        "        x = x_new\n",
        "        n += 1\n",
        "\n",
        "root, n = fixed_point_iteration(g, 0.5, 0.0001)\n",
        "print(f\"Root found: {root:.4f} after {n} iterations\")\n"
      ],
      "metadata": {
        "colab": {
          "base_uri": "https://localhost:8080/"
        },
        "id": "S8xIIz6Qer3l",
        "outputId": "46a3da3f-faa4-4026-ca67-fc2eeccaee09"
      },
      "execution_count": 8,
      "outputs": [
        {
          "output_type": "stream",
          "name": "stdout",
          "text": [
            "Root found: 0.6418 after 186 iterations\n"
          ]
        }
      ]
    },
    {
      "cell_type": "code",
      "metadata": {
        "collapsed": true,
        "id": "SOlb04UzT95K",
        "colab": {
          "base_uri": "https://localhost:8080/"
        },
        "outputId": "04eb943e-7ab0-46b9-b3b3-2ba4b1690a81"
      },
      "source": [
        "import numpy as np\n",
        "def fixed_point_iteration_alpha(f, alpha, x_init, eps=1e-8, maxiter=100):\n",
        "    \n",
        "\tx = x_init\n",
        "\tn_iter = 0\n",
        "    \n",
        "\tfor n in range(maxiter):\n",
        "        \n",
        "\t\tx_new = x - alpha*f(x)\n",
        "\t\t\n",
        "\t\tif abs(x-x_new) < eps*abs(x): # check for convergence \n",
        "\t\t\treturn x_new, n_iter+1\n",
        "        \n",
        "\t\tx = x_new # update estimate \n",
        "\n",
        "\traise ValueError(\"The method failed to converge within {} iterations\".format(maxiter))\n",
        " \n",
        "\n",
        "def fprime(x):\n",
        "    return -np.sin(x)/(2*np.sqrt(x))\n",
        "\n",
        "\n",
        "a_min = 2 / (np.abs(fprime(0.6)) + np.abs(fprime(np.pi/4)))\n",
        "a_max = 2 / (np.abs(fprime(np.pi/2)) + np.abs(fprime(np.pi/4)))\n",
        "\n",
        "print(\"Optimal value of alpha: {:.6f}\".format(1/a_max))\n",
        "\n"
      ],
      "execution_count": 9,
      "outputs": [
        {
          "output_type": "stream",
          "name": "stdout",
          "text": [
            "Optimal value of alpha: 0.398942\n"
          ]
        }
      ]
    },
    {
      "cell_type": "markdown",
      "metadata": {
        "id": "WaEqb4_ST95K"
      },
      "source": [
        "# Part III. Newton's fractal.\n",
        "\n",
        "(Not graded). \n",
        "\n",
        "Consider the equation\n",
        "\n",
        "$$\n",
        "x^3 = 1\n",
        "$$\n",
        "\n",
        "It has three solutions in the complex plane, $x_k = \\exp(i\\, 2\\pi k/ 3)$, $k = 0, 1, 2$.\n",
        "\n",
        "The Newton's iterations converge to one of these solutions, depending on the starting point in the complex plane (to converge to a complex-valued solution, the iteration needs a complex-valued starting point).\n",
        "\n",
        "Plot the \\emph{basins of attraction} of these roots on the complex plane of $x$ (i.e., on the plane $\\mathrm{Re}x$ -- $\\mathrm{Im}x$). To this end, make a series of calculations, varying the initial conditions on a grid of points. \n",
        "Color the grid in three colors, according to the root, to which iterations converged."
      ]
    },
    {
      "cell_type": "markdown",
      "source": [
        "##Intento I"
      ],
      "metadata": {
        "id": "AhZPL2xwe3so"
      }
    },
    {
      "cell_type": "code",
      "source": [
        "import numpy as np\n",
        "\n",
        "def newton(x0, nmax=100, tol=1e-6):\n",
        "    # Newton-Raphson iteration for x^3=1\n",
        "    for i in range(nmax):\n",
        "        x = 1/3 * (2*x0 + 1/x0**2)\n",
        "        if abs(x - x0) < tol:\n",
        "            break\n",
        "        x0 = x\n",
        "    # Determine which root it converged to\n",
        "    roots = [np.exp(2j*np.pi*k/3) for k in range(3)]\n",
        "    dists = [abs(x - root) for root in roots]\n",
        "    root_idx = np.argmin(dists)\n",
        "    return root_idx\n",
        "    \n",
        "import matplotlib.pyplot as plt\n",
        "\n",
        "# Generate a grid of points in the complex plane\n",
        "xgrid = np.linspace(-2, 2, 1000)\n",
        "ygrid = np.linspace(-2, 2, 1000)\n",
        "X, Y = np.meshgrid(xgrid, ygrid)\n",
        "Z = X + 1j*Y\n",
        "\n",
        "# Evaluate the Newton-Raphson iteration on the grid\n",
        "img = np.zeros(Z.shape, dtype=int)\n",
        "for i in range(Z.shape[0]):\n",
        "    for j in range(Z.shape[1]):\n",
        "        img[i,j] = newton(Z[i,j])\n",
        "\n",
        "# Plot the basins of attraction\n",
        "colormap = plt.cm.get_cmap('brg', 3)\n",
        "plt.imshow(img, extent=[-2, 2, -2, 2], cmap=colormap)\n",
        "plt.colorbar(ticks=[0,1,2])\n"
      ],
      "metadata": {
        "colab": {
          "base_uri": "https://localhost:8080/",
          "height": 507
        },
        "id": "HwnO-T1-elye",
        "outputId": "369a4b6f-8c93-45da-aff8-dc571ce21e9c"
      },
      "execution_count": null,
      "outputs": [
        {
          "output_type": "stream",
          "name": "stderr",
          "text": [
            "<ipython-input-27-329ea37c8c8a>:31: MatplotlibDeprecationWarning: The get_cmap function was deprecated in Matplotlib 3.7 and will be removed two minor releases later. Use ``matplotlib.colormaps[name]`` or ``matplotlib.colormaps.get_cmap(obj)`` instead.\n",
            "  colormap = plt.cm.get_cmap('brg', 3)\n"
          ]
        },
        {
          "output_type": "execute_result",
          "data": {
            "text/plain": [
              "<matplotlib.colorbar.Colorbar at 0x7f825880b190>"
            ]
          },
          "metadata": {},
          "execution_count": 27
        },
        {
          "output_type": "display_data",
          "data": {
            "text/plain": [
              "<Figure size 640x480 with 2 Axes>"
            ],
            "image/png": "[encoded data removed]"
          },
          "metadata": {}
        }
      ]
    },
    {
      "cell_type": "markdown",
      "source": [
        "##Intento II \n",
        "tiene error"
      ],
      "metadata": {
        "id": "3ibm7D90e-e3"
      }
    },
    {
      "cell_type": "code",
      "source": [
        "import numpy as np\n",
        "import matplotlib.pyplot as plt\n",
        "\n",
        "# Define complex roots of x^3=1\n",
        "x0 = np.exp(2j*np.pi/3)\n",
        "x1 = np.exp(2j*2*np.pi/3)\n",
        "\n",
        "def newton_fractal(f, dfdx, roots, xmin=-1,xmax=1,ymin=-1,ymax=1,resolution=(1000j)):\n",
        "    xs,ys=np.mgrid[xmin:xmax:resolution,ymin:ymax:resolution]\n",
        "    zs=xs+ys*1j\n",
        "    \n",
        "    for i in range(30):\n",
        "        znext = zs - f(zs)/dfdx(zs)\n",
        "        mask = abs(f(znext)) < abs(f(zs))\n",
        "        zs[mask] = znext[mask]\n",
        "\n",
        "    dist_x0,z_idx_x0=np.round(abs(zs-x0),15).min(axis=0),np.round(abs(zs-x0),15).argmin(axis=0)\n",
        "    dist_x1,z_idx_x1=np.round(abs(zs-x1),15).min(axis=0),np.round(abs(zs-x1),15).argmin(axis=0)\n",
        "\n",
        "    colors=np.zeros(xs.shape,dtype=int)\n",
        "\n",
        "    colors[np.where(dist_x0<dist_x1)]+=5\n",
        "\n",
        "    return xs,np.where(colors==10,roots[2],np.where(colors==5 | (colors==6 & (dist_x0<dist_x1)),roots[1],roots[0]))\n",
        "\n",
        "def f(x):\n",
        "     return x**3 - 1\n",
        "\n",
        "def dfdx(x):\n",
        "     return 3*x**2\n",
        "\n",
        "xmin, xmax = -1.5, 1.5\n",
        "ymin, ymax = -1.5j, 1.5j\n",
        "roots = [np.exp(2j*np.pi*k/3) for k in range(3)]\n",
        "\n",
        "xs,color=newton_fractal(f,dfdx,np.array(roots),xmin=xmin,xmax=xmax,ymin=ymin,ymax=ymax)\n",
        "plt.imshow(color.T,cmap='brg',origin='lower',extent=[xmin.real,xmax.real,ymin.imag,ymax.imag])\n",
        "plt.xlabel('Re(x)')\n",
        "plt.ylabel('Im(x)')\n",
        "plt.show()"
      ],
      "metadata": {
        "id": "oShEPja5e9T0"
      },
      "execution_count": null,
      "outputs": []
    }
  ]
}