{
  "nbformat": 4,
  "nbformat_minor": 0,
  "metadata": {
    "colab": {
      "provenance": []
    },
    "kernelspec": {
      "name": "python3",
      "display_name": "Python 3"
    }
  },
  "cells": [
    {
      "cell_type": "markdown",
      "source": [
        "Grupo 3"
      ],
      "metadata": {
        "id": "gG-7Dc7b7Ksj"
      }
    },
    {
      "cell_type": "code",
      "metadata": {
        "id": "OLUKMp6bzVEJ"
      },
      "source": [
        "import numpy as np\n",
        "\n",
        "from numpy.testing import assert_allclose"
      ],
      "execution_count": null,
      "outputs": []
    },
    {
      "cell_type": "markdown",
      "metadata": {
        "id": "Uz3t7DtP0gLx"
      },
      "source": [
        "# Part I. Construct a Householder reflection of a vector."
      ]
    },
    {
      "cell_type": "markdown",
      "metadata": {
        "id": "K0JvLCTy0kOI"
      },
      "source": [
        "Given a vector $\\mathbf{x}$, and a plane with a normal vector $\\mathbf{u}$, the Householder transformation reflects $\\mathbf{x}$ about the plane.\n",
        "\n",
        "The matrix of the Householder transformation is\n",
        "\n",
        "$$\n",
        "\\mathbf{H} = \\mathbf{I} - 2 \\mathbf{u} \\mathbf{u}^T\n",
        "$$\n",
        "\n",
        "Given two equal-length vectors $\\mathbf{x}$ and $\\mathbf{y}$, a rotation which brings $\\mathbf{x}$ to $\\mathbf{y}$ is a Householder transform with\n",
        "\n",
        "$$\n",
        "\\mathbf{u} = \\frac{\\mathbf{x} - \\mathbf{y}}{\\left|\\mathbf{x} - \\mathbf{y}\\right|}\n",
        "$$"
      ]
    },
    {
      "cell_type": "markdown",
      "metadata": {
        "id": "0SvLbsbc0oqh"
      },
      "source": [
        "Write a function which rotates a given vector, $\\mathbf{x} = (x_1, \\dots, x_n)$ into $\\mathbf{y} = (\\left|\\mathbf{x}\\right|, 0, \\dots, 0)^T$ using a Householder transformation."
      ]
    },
    {
      "cell_type": "code",
      "metadata": {
        "id": "_xCVjiVB0jco",
        "colab": {
          "base_uri": "https://localhost:8080/"
        },
        "outputId": "3c74bd48-9ad9-40ac-f4b5-be1f7b06c7fc"
      },
      "source": [
        "import numpy as np\n",
        "from typing import Union\n",
        "\n",
        "def householder(x: np.ndarray) -> Union[np.ndarray, int]:\n",
        "    alpha = x[0]\n",
        "    s = np.power(np.linalg.norm(x[1:]), 2)\n",
        "    v = x.copy()\n",
        "\n",
        "    if s == 0:\n",
        "        tau = 0\n",
        "    else:\n",
        "        t = np.sqrt(alpha**2 + s)\n",
        "        v[0] = alpha - t if alpha <= 0 else -s / (alpha + t)\n",
        "\n",
        "        tau = 2 * v[0]**2 / (s + v[0]**2)\n",
        "        v /= v[0]\n",
        "\n",
        "    return v, tau\n",
        "\n",
        "def qr_decomposition(A: np.ndarray) -> Union[np.ndarray, np.ndarray]:\n",
        "    m, n = A.shape\n",
        "    R = A.copy()\n",
        "    Q = np.identity(m)\n",
        "\n",
        "    for j in range(n):\n",
        "        v, tau = householder(R[j:, j])\n",
        "        H = np.identity(m)\n",
        "        H[j:, j:] -= tau * np.outer(v, v)  # Outer product!\n",
        "        R = H @ R\n",
        "        Q = H @ Q.T  # Transpose!\n",
        "\n",
        "    return Q.T, R\n",
        "\n",
        "m = 10\n",
        "n = 8\n",
        "\n",
        "A = np.random.rand(m, n)\n",
        "q, r = np.linalg.qr(A)\n",
        "Q, R = qr_decomposition(A)\n",
        "\n",
        "print(\"*****\")\n",
        "print(Q)\n",
        "print(q)\n",
        "print(\"-----\")\n",
        "print(R)\n",
        "print(r)\n"
      ],
      "execution_count": 1,
      "outputs": [
        {
          "output_type": "stream",
          "name": "stdout",
          "text": [
            "*****\n",
            "[[ 4.09818640e-01 -3.20548449e-01 -3.59980217e-02  1.14332833e-01\n",
            "   3.47498251e-01 -9.36079961e-02  4.55125157e-01  1.18360556e-01\n",
            "   4.11420231e-02  6.02138882e-01]\n",
            " [ 1.99995578e-01  4.50787786e-01 -3.81265345e-01  3.28106920e-01\n",
            "   1.53226872e-01 -3.33159484e-01 -4.86010282e-02 -1.91000773e-02\n",
            "  -6.04151549e-01 -3.96868248e-02]\n",
            " [-2.35082411e-01  8.82663456e-02  6.59623724e-01  3.85859354e-01\n",
            "   2.70417843e-01  7.17936984e-02  5.33601143e-02  4.71580894e-01\n",
            "  -2.02913963e-01 -9.09084779e-02]\n",
            " [-9.72887912e-02  4.17180712e-01 -6.89044459e-02 -3.71225448e-01\n",
            "   1.14381142e-01  3.44588651e-03 -4.36249438e-01  4.16752923e-01\n",
            "   1.35308493e-01  5.27768045e-01]\n",
            " [-5.24339849e-01 -2.31245244e-01 -5.19594812e-01  4.47888533e-01\n",
            "   1.13851105e-01  3.82739246e-01 -9.01413155e-02  7.60428450e-02\n",
            "   3.70394559e-02  1.62108469e-01]\n",
            " [ 1.96190755e-02  4.60175869e-01  1.81718684e-02  4.74037746e-01\n",
            "  -8.75049250e-02 -2.21641531e-01  1.39290471e-01 -1.20278219e-01\n",
            "   6.86475468e-01  3.01981328e-02]\n",
            " [ 2.52302410e-02  4.77600445e-01  8.50253347e-02 -1.35579498e-01\n",
            "   1.24466934e-01  6.78954037e-01  3.57967051e-01 -3.35798934e-01\n",
            "  -1.30559331e-01  1.05983339e-01]\n",
            " [ 2.37779347e-01  5.46656523e-02 -1.18473709e-01  1.12732407e-01\n",
            "  -7.34966438e-01  2.32251625e-01  2.27417365e-01  5.07555148e-01\n",
            "  -9.55563429e-02  3.39064893e-02]\n",
            " [ 4.69389031e-01 -2.89172181e-04 -2.40802865e-01 -2.05243231e-02\n",
            "   4.15288060e-01  3.03100941e-01 -1.39644979e-01  3.37633070e-01\n",
            "   2.67689842e-01 -5.01774423e-01]\n",
            " [ 4.17735288e-01 -1.26022119e-01  2.52842376e-01  3.68443363e-01\n",
            "  -1.44244912e-01  2.69577840e-01 -6.08646924e-01 -2.91437508e-01\n",
            "  -5.80575626e-02  2.40207181e-01]]\n",
            "[[-0.40981864  0.32054845  0.06420356  0.14288192 -0.49534144  0.18782617\n",
            "   0.46230444 -0.13477096]\n",
            " [-0.19999558 -0.45078779 -0.2377047  -0.29840218  0.14833937 -0.41595466\n",
            "   0.61594925 -0.15942139]\n",
            " [-0.27534869  0.2439124  -0.70391666  0.24456301 -0.21854149 -0.09203359\n",
            "  -0.14755375 -0.0468573 ]\n",
            " [-0.28856089 -0.16607716  0.31577646 -0.1942664  -0.23840289 -0.08771026\n",
            "  -0.39439439 -0.71010469]\n",
            " [-0.10673675 -0.34922286 -0.18258562 -0.10130652 -0.07034237  0.48221249\n",
            "  -0.12231872  0.08685653]\n",
            " [-0.30160721 -0.26712605  0.2605598   0.70017079  0.06818965 -0.41613367\n",
            "  -0.11821098  0.18488007]\n",
            " [-0.48311485 -0.22576144  0.21539918 -0.28507722 -0.20478218  0.1620423\n",
            "  -0.06644026  0.57237941]\n",
            " [-0.07306428 -0.38439889 -0.12434727  0.39971056  0.28700678  0.55135847\n",
            "   0.12226018 -0.27358777]\n",
            " [-0.48889029  0.45011912  0.12902319 -0.11736143  0.69137254  0.10477411\n",
            "   0.02330985 -0.05746643]\n",
            " [-0.22990098 -0.1109653  -0.40549474 -0.1941056   0.12701761 -0.16915138\n",
            "  -0.42511313  0.0498175 ]]\n",
            "-----\n",
            "[[ 1.98678604e+00  1.30459562e+00  1.60155057e+00  1.13873634e+00\n",
            "   1.68531304e+00  1.64133181e+00  1.84455963e+00  1.26841138e+00]\n",
            " [ 1.05070379e-16  1.35684643e+00  8.40177075e-01 -6.46828998e-02\n",
            "   3.16132257e-01  3.96802320e-01  5.41182611e-01 -1.34478634e-01]\n",
            " [ 1.62669937e-17  3.22445171e-17  1.06436530e+00  3.95558256e-01\n",
            "   6.56530187e-01  8.02227110e-02  2.02985830e-01  6.40324989e-01]\n",
            " [-2.04778009e-17 -7.71848214e-17  1.83417152e-16  8.93570105e-01\n",
            "   3.44320532e-01  4.82268295e-01  2.73428846e-02  2.61693524e-01]\n",
            " [ 8.07742665e-17  2.28860960e-17 -9.27934066e-17  1.31764029e-17\n",
            "   6.08275105e-01  1.67870020e-01 -1.45098798e-01 -2.19069059e-01]\n",
            " [-5.69542721e-17 -1.16633845e-16  8.84857827e-17  1.90234823e-18\n",
            "  -3.04741151e-18  7.13511406e-01  8.64042012e-02  7.35322779e-02]\n",
            " [-9.04494583e-17  2.11420246e-16 -1.77065495e-16 -4.34322861e-17\n",
            "  -7.59691107e-18  9.26638534e-17  6.10452971e-01  4.48334361e-01]\n",
            " [-2.15313468e-17  6.35663943e-17 -1.04543551e-17 -1.65895739e-16\n",
            "  -9.03079364e-18  3.45557737e-17 -1.52358144e-16  6.90325580e-01]\n",
            " [-3.93000328e-17  4.50450999e-18 -3.08156005e-17 -5.61187223e-17\n",
            "  -8.88241997e-18  4.23893600e-17 -3.09696874e-17  8.55110835e-18]\n",
            " [ 7.91250865e-18  2.25466683e-17 -4.93316546e-17 -5.68107795e-17\n",
            "   4.06946619e-17  2.62580286e-17  1.01615840e-16  2.43758557e-17]]\n",
            "[[-1.98678604 -1.30459562 -1.60155057 -1.13873634 -1.68531304 -1.64133181\n",
            "  -1.84455963 -1.26841138]\n",
            " [ 0.         -1.35684643 -0.84017707  0.0646829  -0.31613226 -0.39680232\n",
            "  -0.54118261  0.13447863]\n",
            " [ 0.          0.         -1.0643653  -0.39555826 -0.65653019 -0.08022271\n",
            "  -0.20298583 -0.64032499]\n",
            " [ 0.          0.          0.          0.8935701   0.34432053  0.48226829\n",
            "   0.02734288  0.26169352]\n",
            " [ 0.          0.          0.          0.          0.60827511  0.16787002\n",
            "  -0.1450988  -0.21906906]\n",
            " [ 0.          0.          0.          0.          0.          0.71351141\n",
            "   0.0864042   0.07353228]\n",
            " [ 0.          0.          0.          0.          0.          0.\n",
            "   0.61045297  0.44833436]\n",
            " [ 0.          0.          0.          0.          0.          0.\n",
            "   0.         -0.69032558]]\n"
          ]
        }
      ]
    },
    {
      "cell_type": "markdown",
      "metadata": {
        "id": "otdj2PA8bGwx"
      },
      "source": [
        "Test your function using tests below:"
      ]
    },
    {
      "cell_type": "code",
      "source": [
        "import numpy as np\n",
        "\n",
        "def householder(v):\n",
        "    sigma = np.sign(v[0]) * np.linalg.norm(v, ord=2)\n",
        "    v[0] += sigma\n",
        "    v /= np.linalg.norm(v, ord=2)\n",
        "    H = np.eye(len(v)) - 2 * np.outer(v, v)\n",
        "    return v, H\n",
        "\n",
        "# Test I.1\n",
        "v = np.array([1, 2, 3])\n",
        "v1, h = householder(v)\n",
        "\n",
        "np.testing.assert_allclose(np.dot(h, v1), v)\n",
        "np.testing.assert_allclose(np.dot(h, v), v1)"
      ],
      "metadata": {
        "id": "sqFdZWtu9kMA"
      },
      "execution_count": null,
      "outputs": []
    },
    {
      "cell_type": "code",
      "metadata": {
        "id": "Y_iJuPlpbzLI"
      },
      "source": [
        "import numpy as np\n",
        "\n",
        "def householder(v):\n",
        "    n = len(v)\n",
        "    v_norm = np.linalg.norm(v)\n",
        "    if v_norm == 0:\n",
        "        raise ValueError('Cannot normalize zero vector')\n",
        "    v1 = np.zeros(n)\n",
        "    v1[0] = np.sign(v[0]) * v_norm\n",
        "    u = v - v1\n",
        "    h = np.eye(n) - 2 * np.outer(u, u) / np.dot(u, u)\n",
        "    return v1, h\n",
        "\n",
        "# Test I.2\n",
        "rndm = np.random.RandomState(1234)\n",
        "\n",
        "vec = rndm.uniform(size=7)\n",
        "v1, h = householder(vec)\n",
        "\n",
        "np.testing.assert_allclose(np.dot(h, v1), vec)\n"
      ],
      "execution_count": 10,
      "outputs": []
    },
    {
      "cell_type": "markdown",
      "metadata": {
        "id": "wNDpJogKb-WW"
      },
      "source": [
        "# Part II. Compute the $\\mathrm{QR}$ decomposition of a matrix.\n",
        "\n",
        "Given a rectangular $m\\times n$ matrix $\\mathbf{A}$, construct a Householder reflector matrix $\\mathbf{H}_1$ which transforms the first column of $\\mathbf{A}$ (and call the result $\\mathbf{A}^{(1)}$)\n",
        "\n",
        "$$\n",
        "\\mathbf{H}_1 \\mathbf{A} =%\n",
        "\\begin{pmatrix}\n",
        "\\times & \\times & \\times & \\dots & \\times \\\\\n",
        "0      & \\times & \\times & \\dots & \\times \\\\\n",
        "0      & \\times & \\times & \\dots & \\times \\\\\n",
        "&& \\dots&& \\\\\n",
        "0      & \\times & \\times & \\dots & \\times \\\\\n",
        "\\end{pmatrix}%\n",
        "\\equiv \\mathbf{A}^{(1)}\\;.\n",
        "$$\n",
        "\n",
        "Now consider the lower-right submatrix of $\\mathbf{A}^{(1)}$, and construct a Householder reflector which annihilates the second column of $\\mathbf{A}$:\n",
        "\n",
        "$$\n",
        "\\mathbf{H}_2 \\mathbf{A}^{(1)} =%\n",
        "\\begin{pmatrix}\n",
        "\\times & \\times & \\times & \\dots & \\times \\\\\n",
        "0      & \\times & \\times & \\dots & \\times \\\\\n",
        "0      & 0      & \\times & \\dots & \\times \\\\\n",
        "&& \\dots&& \\\\\n",
        "0      & 0      & \\times & \\dots & \\times \\\\\n",
        "\\end{pmatrix}%\n",
        "\\equiv \\mathbf{A}^{(2)} \\;.\n",
        "$$\n",
        "\n",
        "Repeating the process $n-1$ times, we obtain\n",
        "\n",
        "$$\n",
        "\\mathbf{H}_{n-1} \\cdots \\mathbf{H}_2 \\mathbf{H}_1 \\mathbf{A} = \\mathbf{R} \\;,\n",
        "$$\n",
        "\n",
        "with $\\mathbf{R}$ an upper triangular matrix. Since each $\\mathbf{H}_k$ is orthogonal, so is their product. The inverse of an orthogonal matrix is orthogonal. Hence the process generates the $\\mathrm{QR}$ decomposition of $\\mathbf{A}$. \n",
        "\n",
        "$$\n",
        "\\mathbf{A} = (\\mathbf{H}_{n-1} \\cdots \\mathbf{H}_2 \\mathbf{H}_1)^{-1} \\mathbf{R} \\;,\n",
        "$$\n",
        "so \n",
        "$$\n",
        "\\mathbf{A} =  \\mathbf{Q} \\mathbf{R} \\;,\n",
        "$$\n",
        "with\n",
        "$$\n",
        "\\mathbf{Q} = (\\mathbf{H}_{n-1} \\cdots \\mathbf{H}_2 \\mathbf{H}_1)^{-1} =  \\mathbf{H}_1^{-1}  \\mathbf{H}_2^{-1}  \\cdots \\mathbf{H}_{n-1}^{-1} = \\mathbf{H}_1^T  \\mathbf{H}_2^T  \\cdots \\mathbf{H}_{n-1}^T \n",
        "$$\n",
        "Since $\\mathbf{H}_i$ is ortogonal\n",
        "$$\n",
        "\\mathbf{H}_i\\mathbf{H}_i^T = \\mathbf{I}\n",
        "$$\n",
        "then\n",
        "$$\n",
        "\\mathbf{H}^{-1} = \\mathbf{H}^T \n",
        "$$\n",
        "but also  $\\mathbf{H}_i$ is symetric\n",
        "$$\n",
        "\\mathbf{H}_i^T = \\mathbf{H}_i\n",
        "$$\n",
        "so\n",
        "$$\n",
        "\\mathbf{Q} = \\mathbf{H}_1^{-1}  \\mathbf{H}_2^{-1}  \\cdots \\mathbf{H}_{n-1}^{-1} = \\mathbf{H}_1^T  \\mathbf{H}_2^T  \\cdots \\mathbf{H}_{n-1}^T =  \\mathbf{H}_1 \\mathbf{H}_2  \\cdots \\mathbf{H}_{n-1}\n",
        "$$\n"
      ]
    },
    {
      "cell_type": "code",
      "metadata": {
        "id": "-asgo49bb42_"
      },
      "source": [
        "import numpy as np\n",
        "\n",
        "def qr_decomp(a):\n",
        "    m, n = a.shape\n",
        "    Q = np.eye(m)\n",
        "    R = a.copy()\n",
        "\n",
        "    for j in range(n):\n",
        "        x = R[j:, j]\n",
        "        e = np.zeros_like(x)\n",
        "        e[0] = np.sign(x[0])\n",
        "\n",
        "        v = np.linalg.norm(x) * e + x\n",
        "        v = v / np.linalg.norm(v)\n",
        "\n",
        "        R[j:, :] -= 2 * np.outer(v, np.dot(v, R[j:, :]))\n",
        "        Q[:, j:] -= 2 * np.outer(Q[:, j:], np.dot(Q[:, j:].T, v))\n",
        "\n",
        "    return Q, R"
      ],
      "execution_count": 18,
      "outputs": []
    },
    {
      "cell_type": "code",
      "metadata": {
        "id": "9JNb9e0Ncv-B"
      },
      "source": [
        "# Might want to turn this on for prettier printing: zeros instead of `1e-16` etc\n",
        "\n",
        "np.set_printoptions(suppress=True)"
      ],
      "execution_count": 12,
      "outputs": []
    },
    {
      "cell_type": "code",
      "source": [
        "# Test II.1 (20% of the total grade)\n",
        "rndm = np.random.RandomState(1234)\n",
        "a = rndm.uniform(size=(5, 3))\n",
        "q, r = qr_decomp(a)\n",
        "# test that Q is indeed orthogonal\n",
        "np.testing.assert_allclose(np.dot(q, q.T), np.eye(5), atol=1e-10)\n",
        "\n",
        "# test the decomposition itself\n",
        "np.testing.assert_allclose(np.dot(q, r), a)"
      ],
      "metadata": {
        "id": "L3ehrP0j_V39"
      },
      "execution_count": null,
      "outputs": []
    },
    {
      "cell_type": "markdown",
      "metadata": {
        "id": "zB1DDyVps5Br"
      },
      "source": [
        "Now compare your decompositions to the library function (which actually wraps the corresponding LAPACK functions)"
      ]
    },
    {
      "cell_type": "code",
      "source": [
        "from scipy.linalg import qr\n",
        "qq, rr = qr(a)\n",
        "\n",
        "assert_allclose(np.dot(qq, rr), a)"
      ],
      "metadata": {
        "id": "K7qcKnwH_fbU"
      },
      "execution_count": null,
      "outputs": []
    },
    {
      "cell_type": "markdown",
      "metadata": {
        "id": "IFOrXiW5tGjL"
      },
      "source": [
        "Check if your q and r agree with qq and rr. Explain."
      ]
    },
    {
      "cell_type": "code",
      "source": [
        "from scipy.linalg import qr\n",
        "a = np.array([[4,3,1], [5,7,0], [9,9,3], [8,2,4], [9,3,1]])\n",
        "q, r = qr_decomp(a)\n",
        "qq, rr = qr(a)\n",
        "print(q)\n",
        "print(qq)\n",
        "print(r)\n",
        "print(rr)\n",
        "print(a)\n",
        "print(q@r)\n",
        "print(qq@rr)"
      ],
      "metadata": {
        "id": "4i6VD9uT_pjW"
      },
      "execution_count": null,
      "outputs": []
    },
    {
      "cell_type": "markdown",
      "metadata": {
        "id": "mv5qlwoHMwvU"
      },
      "source": [
        "Enter your explanation here (10% of the total grade, peer-graded)"
      ]
    },
    {
      "cell_type": "markdown",
      "metadata": {
        "id": "zwqwAkrotneq"
      },
      "source": [
        "# Part III. Avoid forming Householder matrices explicitly."
      ]
    },
    {
      "cell_type": "markdown",
      "metadata": {
        "id": "LfaWxcavtofS"
      },
      "source": [
        "Note the special structure of the Householder matrices: A reflector $\\mathbf{H}$ is completely specified by a reflection vector $\\mathbf{u}$. Also note that the computational cost of applying a reflector to a matrix strongly depends on the order of operations:\n",
        "\n",
        "$$\n",
        "\\left( \\mathbf{u} \\mathbf{u}^T \\right) \\mathbf{A}  \\qquad \\textrm{is } O(m^2 n)\\;,\n",
        "$$\n",
        "while\n",
        "$$\n",
        "\\mathbf{u} \\left( \\mathbf{u}^T \\mathbf{A} \\right) \\qquad \\textrm{is } O(mn)\n",
        "$$\n",
        "\n",
        "Thus, it seems to make sense to *avoid* forming the $\\mathbf{H}$ matrices. Instead, one stores the reflection vectors, $\\mathbf{u}$, themselves, and provides a way of multiplying an arbitrary matrix by $\\mathbf{Q}^T$, e.g., as a standalone function (or a class).\n",
        "\n",
        "\n",
        "\n"
      ]
    },
    {
      "cell_type": "markdown",
      "metadata": {
        "id": "xdrCItiYt027"
      },
      "source": [
        "Write a function which constructs the `QR` decomposition of a matrix *without ever forming the* $\\mathbf{H}$ matrices, and returns the $\\mathbf{R}$ matrix and reflection vectors. \n",
        "\n",
        "Write a second function, which uses reflection vectors to multiply a matrix with $\\mathbf{Q}^T$. Make sure to include enough comments for a marker to follow your implementation, and add tests. \n",
        "\n",
        "(Peer-graded, 40% of the total grade)"
      ]
    },
    {
      "cell_type": "markdown",
      "metadata": {
        "id": "02SQz3w1MAdF"
      },
      "source": [
        "$$\n",
        "\\mathbf{R} = \\mathbf{H}_{n-1} \\cdots \\mathbf{H}_2 \\mathbf{H}_1 \\mathbf{A} \n",
        "$$\n",
        "and \n",
        "$$\n",
        "\\mathbf{H}_i = \\mathbf{I} - 2 \\mathbf{u}_i \\mathbf{u}_i^T\n",
        "$$\n",
        "so if\n",
        "$$\n",
        "\\mathbf{R}_0 =  \\mathbf{A}\n",
        "$$\n",
        "then \n",
        "$$\n",
        "\\mathbf{R}_1 = \\mathbf{H}_1 \\mathbf{R}_0= \\ (\\mathbf{I} - 2 \\mathbf{u}_1 \\mathbf{u}_1^T) \\mathbf{R}_0 =  \\mathbf{R}_0 -  2 \\mathbf{u}_1 ( \\mathbf{u}_1^T  \\mathbf{R}_0)\n",
        "$$\n",
        "and\n",
        "$$\n",
        "\\mathbf{R}_2 = \\mathbf{H}_2 \\mathbf{R}_1 = \\ (\\mathbf{I} - 2 \\mathbf{u}_2 \\mathbf{u}_2^T) \\mathbf{R}_1 =  \\mathbf{R}_1 -  2 \\mathbf{u}_2 ( \\mathbf{u}_2^T  \\mathbf{R}_1)\n",
        "$$\n",
        "so on until\n",
        "$$\n",
        "\\mathbf{R} = \\mathbf{H}_n \\mathbf{R}_{n-1} =  (\\mathbf{I} - 2 \\mathbf{u}_{n-1} \\mathbf{u}_{n-1}^T) \\mathbf{R}_{n-1} = \\mathbf{R}_{n-1} -  2 \\mathbf{u}_{n-1} ( \\mathbf{u}_{n-1}^T  \\mathbf{R}_{n-1})\n",
        "$$"
      ]
    },
    {
      "cell_type": "code",
      "metadata": {
        "id": "agH0iQYjt145"
      },
      "source": [
        "import numpy as np\n",
        "\n",
        "def r_decomp(a):\n",
        "    m, n = a.shape\n",
        "    R = a.copy()\n",
        "    vecs = np.zeros((m, n))\n",
        "\n",
        "    for j in range(n):\n",
        "        x = R[j:, j]\n",
        "        norm_x = np.linalg.norm(x)\n",
        "        sign_x_1 = np.sign(x[0])\n",
        "\n",
        "        vec = np.copy(x)\n",
        "        vec[0] += sign_x_1 * norm_x\n",
        "        vec /= np.linalg.norm(vec)\n",
        "\n",
        "        vecs[j:, j] = vec\n",
        "        \n",
        "        R[j:, j:] -= 2 * np.outer(vec, np.dot(vec, R[j:, j:]))\n",
        "\n",
        "    return R, vecs\n"
      ],
      "execution_count": 24,
      "outputs": []
    },
    {
      "cell_type": "markdown",
      "metadata": {
        "id": "pfIyTAAyL3xd"
      },
      "source": [
        "$$\n",
        "\\mathbf{Q} =  \\mathbf{H}_1 \\mathbf{H}_2  \\cdots \\mathbf{H}_{n-1}\n",
        "$$\n",
        "and\n",
        "$$\n",
        "\\mathbf{H}_i = \\mathbf{I} - 2 \\mathbf{u}_i \\mathbf{u}_i^T\n",
        "$$\n",
        "so \n",
        "$$\n",
        "\\mathbf{Q} =  (\\mathbf{I} - 2 \\mathbf{u}_1 \\mathbf{u}_1^T )( \\mathbf{I} - 2 \\mathbf{u}_2 \\mathbf{u}_2^T)  \\cdots (\\mathbf{I} - 2 \\mathbf{u}_{n-1} \\mathbf{u}_{n-1}^T)\n",
        "$$"
      ]
    },
    {
      "cell_type": "code",
      "metadata": {
        "id": "n_ER2kVdLprT"
      },
      "source": [
        "import numpy as np\n",
        "\n",
        "def q_decomp(vecs):\n",
        "    m, n = vecs.shape\n",
        "    Q = np.eye(m)\n",
        "\n",
        "    for j in range(n):\n",
        "        vec = vecs[:, j]\n",
        "        Q -= 2*np.outer(vec, np.dot(vec, Q))\n",
        "\n",
        "    QT = np.linalg.inv(Q)\n",
        "    \n",
        "    return Q, QT\n"
      ],
      "execution_count": 28,
      "outputs": []
    },
    {
      "cell_type": "code",
      "source": [
        "rndm = np.random.RandomState(1234)\n",
        "a = rndm.uniform(size=(5, 3))\n",
        "r, vecs = r_decomp(a)\n",
        "q,qt = q_decomp(vecs)\n",
        "\n",
        "# test that Q is indeed orthogonal\n",
        "assert_allclose(np.dot(q, q.T), np.eye(5), atol=1e-10)\n",
        "\n",
        "# test the decomposition itself\n",
        "assert_allclose(np.dot(q, r), a)"
      ],
      "metadata": {
        "id": "djxYPJqPARMJ"
      },
      "execution_count": null,
      "outputs": []
    },
    {
      "cell_type": "code",
      "metadata": {
        "id": "-eaGWWkHX-dP"
      },
      "source": [
        "from scipy.linalg import qr\n",
        "qq, rr = qr(a)\n",
        "\n",
        "assert_allclose(np.dot(qq, rr), a)"
      ],
      "execution_count": null,
      "outputs": []
    },
    {
      "cell_type": "code",
      "metadata": {
        "colab": {
          "base_uri": "https://localhost:8080/"
        },
        "id": "6JGctCeR_LLn",
        "outputId": "2044af4f-36f9-4e41-b7bc-e114dd0ac1d4"
      },
      "source": [
        "a = np.array([[4,3,1], [5,7,0], [9,9,3], [8,2,4], [9,3,1]])\n",
        "R, vecs = r_decomp(a)\n",
        "print(\"R\\n \",R)\n",
        "Q,QT = q_decomp(vecs)\n",
        "print(\"Q\\n\",Q)\n",
        "print(\"QT\\n\",QT)\n",
        "print(\"QT@Q\\n\",QT@Q)\n",
        "print(\"a\\n\",a)\n",
        "print(\"Q@R\\n\",Q@R)"
      ],
      "execution_count": null,
      "outputs": [
        {
          "output_type": "stream",
          "name": "stdout",
          "text": [
            "R\n",
            "  [[16.34013464 10.46503005  4.40632844]\n",
            " [ 0.          6.51790964 -0.7843557 ]\n",
            " [ 0.         -0.          2.63989693]\n",
            " [ 0.          0.          0.        ]\n",
            " [ 0.         -0.         -0.        ]]\n",
            "Q\n",
            " [[ 0.24479602  0.06723049 -0.00981821  0.96611775  0.04555281]\n",
            " [ 0.30599503  0.58266423 -0.33762629 -0.09006618 -0.6669078 ]\n",
            " [ 0.55079106  0.4964713   0.36457628 -0.19531237  0.52828277]\n",
            " [ 0.48959205 -0.47923271  0.55563068 -0.06304632 -0.46683546]\n",
            " [ 0.55079106 -0.42406923 -0.66653641 -0.12799536  0.23694072]]\n",
            "QT\n",
            " [[ 0.24479602  0.30599503  0.55079106  0.48959205  0.55079106]\n",
            " [ 0.06723049  0.58266423  0.4964713  -0.47923271 -0.42406923]\n",
            " [-0.00981821 -0.33762629  0.36457628  0.55563068 -0.66653641]\n",
            " [ 0.96611775 -0.09006618 -0.19531237 -0.06304632 -0.12799536]\n",
            " [ 0.04555281 -0.6669078   0.52828277 -0.46683546  0.23694072]]\n",
            "QT@Q\n",
            " [[ 1. -0.  0.  0. -0.]\n",
            " [-0.  1. -0. -0.  0.]\n",
            " [ 0. -0.  1.  0. -0.]\n",
            " [ 0. -0.  0.  1.  0.]\n",
            " [-0.  0. -0.  0.  1.]]\n",
            "a\n",
            " [[4 3 1]\n",
            " [5 7 0]\n",
            " [9 9 3]\n",
            " [8 2 4]\n",
            " [9 3 1]]\n",
            "Q@R\n",
            " [[ 4.  3.  1.]\n",
            " [ 5.  7. -0.]\n",
            " [ 9.  9.  3.]\n",
            " [ 8.  2.  4.]\n",
            " [ 9.  3.  1.]]\n"
          ]
        }
      ]
    }
  ]
}