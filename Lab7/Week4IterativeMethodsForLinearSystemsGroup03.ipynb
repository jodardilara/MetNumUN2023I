{
  "cells": [
    {
      "cell_type": "markdown",
      "source": [
        "#Grupo3 Laboratorio 7"
      ],
      "metadata": {
        "id": "IhP7kfMG408f"
      }
    },
    {
      "cell_type": "markdown",
      "metadata": {
        "id": "_7zSSeX21Grj"
      },
      "source": [
        "# Simple iteration for systems of linear equations"
      ]
    },
    {
      "cell_type": "markdown",
      "metadata": {
        "id": "GRz8VJ0N1Grn"
      },
      "source": [
        "First, generate a random diagonally dominant matrix, for testing."
      ]
    },
    {
      "cell_type": "code",
      "execution_count": 1,
      "metadata": {
        "collapsed": true,
        "id": "jTVkb-WZ1Gro"
      },
      "outputs": [],
      "source": [
        "import numpy as np\n",
        "rndm = np.random.RandomState(1234)\n",
        "\n",
        "n = 10\n",
        "A = rndm.uniform(size=(n, n)) + np.diagflat([15]*n)\n",
        "b = rndm.uniform(size=n)"
      ]
    },
    {
      "cell_type": "code",
      "source": [
        "b"
      ],
      "metadata": {
        "colab": {
          "base_uri": "https://localhost:8080/"
        },
        "id": "p68Fd0pTMXER",
        "outputId": "c62b95f0-eb61-42dc-d0e6-41aeac366193"
      },
      "execution_count": 2,
      "outputs": [
        {
          "output_type": "execute_result",
          "data": {
            "text/plain": [
              "array([0.76711663, 0.70811536, 0.79686718, 0.55776083, 0.96583653,\n",
              "       0.1471569 , 0.029647  , 0.59389349, 0.1140657 , 0.95080985])"
            ]
          },
          "metadata": {},
          "execution_count": 2
        }
      ]
    },
    {
      "cell_type": "code",
      "source": [
        "A"
      ],
      "metadata": {
        "id": "4mv5q-nMKZwY",
        "outputId": "f409b22f-f836-4cc6-b190-3964494fb029",
        "colab": {
          "base_uri": "https://localhost:8080/"
        }
      },
      "execution_count": 3,
      "outputs": [
        {
          "output_type": "execute_result",
          "data": {
            "text/plain": [
              "array([[1.51915195e+01, 6.22108771e-01, 4.37727739e-01, 7.85358584e-01,\n",
              "        7.79975808e-01, 2.72592605e-01, 2.76464255e-01, 8.01872178e-01,\n",
              "        9.58139354e-01, 8.75932635e-01],\n",
              "       [3.57817270e-01, 1.55009951e+01, 6.83462935e-01, 7.12702027e-01,\n",
              "        3.70250755e-01, 5.61196186e-01, 5.03083165e-01, 1.37684496e-02,\n",
              "        7.72826622e-01, 8.82641191e-01],\n",
              "       [3.64885984e-01, 6.15396178e-01, 1.50753812e+01, 3.68824006e-01,\n",
              "        9.33140102e-01, 6.51378143e-01, 3.97202578e-01, 7.88730143e-01,\n",
              "        3.16836122e-01, 5.68098653e-01],\n",
              "       [8.69127390e-01, 4.36173424e-01, 8.02147642e-01, 1.51437668e+01,\n",
              "        7.04260971e-01, 7.04581308e-01, 2.18792106e-01, 9.24867629e-01,\n",
              "        4.42140755e-01, 9.09315959e-01],\n",
              "       [5.98092228e-02, 1.84287084e-01, 4.73552788e-02, 6.74880944e-01,\n",
              "        1.55946248e+01, 5.33310163e-01, 4.33240627e-02, 5.61433080e-01,\n",
              "        3.29668446e-01, 5.02966833e-01],\n",
              "       [1.11894318e-01, 6.07193706e-01, 5.65944643e-01, 6.76406199e-03,\n",
              "        6.17441709e-01, 1.59121229e+01, 7.90524133e-01, 9.92081466e-01,\n",
              "        9.58801762e-01, 7.91964135e-01],\n",
              "       [2.85250960e-01, 6.24916705e-01, 4.78093796e-01, 1.95675179e-01,\n",
              "        3.82317452e-01, 5.38736851e-02, 1.54516484e+01, 9.82004742e-01,\n",
              "        1.23942700e-01, 1.19380898e-01],\n",
              "       [7.38523056e-01, 5.87303633e-01, 4.71632534e-01, 1.07126817e-01,\n",
              "        2.29218565e-01, 8.99965195e-01, 4.16753538e-01, 1.55358517e+01,\n",
              "        6.20851659e-03, 3.00641706e-01],\n",
              "       [4.36893172e-01, 6.12148997e-01, 9.18198075e-01, 6.25736670e-01,\n",
              "        7.05997565e-01, 1.49833716e-01, 7.46063409e-01, 8.31006992e-01,\n",
              "        1.56337258e+01, 4.38309881e-01],\n",
              "       [1.52572775e-01, 5.68409615e-01, 5.28224278e-01, 9.51428764e-01,\n",
              "        4.80359179e-01, 5.02559563e-01, 5.36878193e-01, 8.19202067e-01,\n",
              "        5.71156381e-02, 1.56694217e+01]])"
            ]
          },
          "metadata": {},
          "execution_count": 3
        }
      ]
    },
    {
      "cell_type": "markdown",
      "metadata": {
        "id": "oNGIGBex1Grq"
      },
      "source": [
        "# I.  Jacobi iteration\n",
        "\n",
        "Given\n",
        "\n",
        "$$\n",
        "A x = b\n",
        "$$\n",
        "\n",
        "separate the diagonal part $D$,\n",
        "\n",
        "$$ A = D + (A - D) $$\n",
        "\n",
        "and write\n",
        "\n",
        "$$\n",
        "x = D^{-1} (D - A) x + D^{-1} b\\;.\n",
        "$$\n",
        "\n",
        "Then iterate\n",
        "\n",
        "$$\n",
        "x_{n + 1} = B x_{n} + c\\;,\n",
        "$$\n",
        "\n",
        "where \n",
        "\n",
        "$$\n",
        "B = D^{-1} (A - D) \\qquad \\text{and} \\qquad c = D^{-1} b\n",
        "$$\n"
      ]
    },
    {
      "cell_type": "markdown",
      "metadata": {
        "id": "rB2PHHIK1Grr"
      },
      "source": [
        "Let's construct the matrix and the r.h.s. for the Jacobi iteration"
      ]
    },
    {
      "cell_type": "code",
      "execution_count": 4,
      "metadata": {
        "id": "bnk796g61Grr"
      },
      "outputs": [],
      "source": [
        "diag_1d = np.diag(A)\n",
        "\n",
        "B = -A.copy()\n",
        "np.fill_diagonal(B, 0)\n",
        "\n",
        "D = np.diag(diag_1d)\n",
        "invD = np.diag(1./diag_1d)\n",
        "BB = invD @ B \n",
        "c = invD @ b"
      ]
    },
    {
      "cell_type": "code",
      "execution_count": 5,
      "metadata": {
        "id": "0NTUyC3i1Grs"
      },
      "outputs": [],
      "source": [
        "# sanity checks\n",
        "from numpy.testing import assert_allclose\n",
        "\n",
        "assert_allclose(-B + D, A)\n",
        "\n",
        "\n",
        "# xx is a \"ground truth\" solution, compute it using a direct method\n",
        "xx = np.linalg.solve(A, b)\n",
        "\n",
        "np.testing.assert_allclose(A@xx, b)\n",
        "np.testing.assert_allclose(D@xx, B@xx + b)\n",
        "np.testing.assert_allclose(xx, BB@xx + c)"
      ]
    },
    {
      "cell_type": "markdown",
      "metadata": {
        "id": "nRaVUE6U1Grt"
      },
      "source": [
        "Check that $\\| B\\| \\leqslant 1$:"
      ]
    },
    {
      "cell_type": "code",
      "execution_count": 6,
      "metadata": {
        "id": "zgED2OGu1Gru",
        "outputId": "61f686c2-249b-4840-8a21-33a919fbfe64",
        "colab": {
          "base_uri": "https://localhost:8080/"
        }
      },
      "outputs": [
        {
          "output_type": "execute_result",
          "data": {
            "text/plain": [
              "0.36436161983015336"
            ]
          },
          "metadata": {},
          "execution_count": 6
        }
      ],
      "source": [
        "np.linalg.norm(BB)"
      ]
    },
    {
      "cell_type": "markdown",
      "metadata": {
        "id": "rlBcusqg1Grv"
      },
      "source": [
        "### Do the Jacobi iteration"
      ]
    },
    {
      "cell_type": "code",
      "execution_count": 7,
      "metadata": {
        "collapsed": true,
        "id": "NK6iwDtm1Grv"
      },
      "outputs": [],
      "source": [
        "n_iter = 50\n",
        "\n",
        "x0 = np.ones(n)\n",
        "x = x0\n",
        "for _ in range(n_iter):\n",
        "    x = BB @ x + c"
      ]
    },
    {
      "cell_type": "code",
      "execution_count": 8,
      "metadata": {
        "id": "gsLyio7W1Grw",
        "outputId": "6209a8dc-0ac5-4b46-81a9-aaad561d1e7e",
        "colab": {
          "base_uri": "https://localhost:8080/"
        }
      },
      "outputs": [
        {
          "output_type": "execute_result",
          "data": {
            "text/plain": [
              "array([ 1.11022302e-16,  0.00000000e+00, -2.22044605e-16, -1.11022302e-16,\n",
              "        1.11022302e-16,  0.00000000e+00, -2.42861287e-17,  0.00000000e+00,\n",
              "       -2.77555756e-17,  1.11022302e-16])"
            ]
          },
          "metadata": {},
          "execution_count": 8
        }
      ],
      "source": [
        "# Check the result:\n",
        "\n",
        "A @ x - b"
      ]
    },
    {
      "cell_type": "markdown",
      "metadata": {
        "id": "MXfb9BuT1Grw"
      },
      "source": [
        "### Task I.1\n",
        "\n",
        "Collect the proof-of-concept above into a single function implementing the Jacobi iteration. This function should receive the r.h.s. matrix $A$, the l.h.s. vector `b`, and the number of iterations to perform.\n",
        "\n",
        "\n",
        "The matrix $A$ in the illustration above is strongly diagonally dominant, by construction. \n",
        "What happens if the diagonal matrix elements of $A$ are made smaller? Check the convergence of the Jacobi iteration, and check the value of the norm of $B$.\n",
        "\n",
        "(20% of the total grade)\n"
      ]
    },
    {
      "cell_type": "code",
      "execution_count": 9,
      "metadata": {
        "collapsed": true,
        "id": "5zqTUVVa1Grw"
      },
      "outputs": [],
      "source": [
        "import numpy as np \n",
        "\n",
        "def jacobi_iteration(M_A, V_b, num_iterations):\n",
        "  n = M_A.shape[0]\n",
        "  x = np.zeros(n)\n",
        "  norms_diff = []\n",
        "  norms_B = []\n",
        "  for _ in range(num_iterations):\n",
        "      x_new = np.zeros(n)\n",
        "      for i in range(n):\n",
        "          x_new[i] = (V_b[i] - np.dot(M_A[i, :i], x[:i]) - np.dot(M_A[i, i+1:], x[i+1:])) / M_A[i, i]\n",
        "      norms_diff.append(np.linalg.norm(x_new - x))\n",
        "      norms_B.append(np.linalg.norm(M_A - np.diag(np.diagonal(M_A))))\n",
        "\n",
        "      x = x_new\n",
        "\n",
        "  return x, norms_diff, norms_B"
      ]
    },
    {
      "cell_type": "code",
      "source": [
        "A = np.array([[7, 1, 1],\n",
        "              [1, 8, 5],\n",
        "              [1, 5, 9]])\n",
        "\n",
        "b = np.array([1, 5, 6])\n",
        "\n",
        "num_iterations = 10  #iteraciones de la operacion"
      ],
      "metadata": {
        "id": "DNNHH8CP2VGv"
      },
      "execution_count": 10,
      "outputs": []
    },
    {
      "cell_type": "code",
      "source": [
        "#extrayendo datos de la matriz \n",
        "x_orig, diff_orig, norm_B_orig = jacobi_iteration(A, b, num_iterations)"
      ],
      "metadata": {
        "id": "Z4VO0Cpw2zBf"
      },
      "execution_count": 11,
      "outputs": []
    },
    {
      "cell_type": "code",
      "source": [
        "A_modified = np.array([[0.7, 0.1, 0.1],\n",
        "                       [0.1, 0.8, 0.5],\n",
        "                       [0.1, 0.5, 0.9]])\n",
        "x_modified, diff_modified, norm_B_modified = jacobi_iteration(A_modified, b, num_iterations)\n"
      ],
      "metadata": {
        "id": "zUDiIuHh3vAv"
      },
      "execution_count": 12,
      "outputs": []
    },
    {
      "cell_type": "code",
      "source": [
        "print('matriz original')\n",
        "print(x_orig)\n",
        "print(diff_orig)\n",
        "\n",
        "print(norm_B_orig)\n",
        "\n",
        "print('matriz modificada')\n",
        "print(x_modified)\n",
        "print(diff_modified)\n",
        "\n",
        "print(norm_B_modified)"
      ],
      "metadata": {
        "id": "4bUQoSRg8RKb",
        "colab": {
          "base_uri": "https://localhost:8080/"
        },
        "outputId": "ed33c56f-1bb7-4dba-fd03-c4e22baa1196"
      },
      "execution_count": 13,
      "outputs": [
        {
          "output_type": "stream",
          "name": "stdout",
          "text": [
            "matriz original\n",
            "[0.0259429  0.31264433 0.4827487 ]\n",
            "[0.9249203250603538, 0.5955653862101966, 0.3795756829762065, 0.24489902652625958, 0.15635375893678347, 0.1007923899409298, 0.0644041091155266, 0.041489469087698225, 0.026529378746075756, 0.017080474264069775]\n",
            "[7.3484692283495345, 7.3484692283495345, 7.3484692283495345, 7.3484692283495345, 7.3484692283495345, 7.3484692283495345, 7.3484692283495345, 7.3484692283495345, 7.3484692283495345, 7.3484692283495345]\n",
            "matriz modificada\n",
            "[0.25942903 3.12644329 4.82748699]\n",
            "[9.249203250603538, 5.955653862101966, 3.7957568297620656, 2.448990265262597, 1.5635375893678343, 1.0079238994092972, 0.6440410911552651, 0.41489469087698144, 0.26529378746075644, 0.1708047426406971]\n",
            "[0.7348469228349535, 0.7348469228349535, 0.7348469228349535, 0.7348469228349535, 0.7348469228349535, 0.7348469228349535, 0.7348469228349535, 0.7348469228349535, 0.7348469228349535, 0.7348469228349535]\n"
          ]
        }
      ]
    },
    {
      "cell_type": "markdown",
      "metadata": {
        "id": "xBnguRFT1Grx"
      },
      "source": [
        "# II. Seidel's iteration."
      ]
    },
    {
      "cell_type": "markdown",
      "metadata": {
        "id": "rSbuFdYU1Grx"
      },
      "source": [
        "##### Task II.1\n",
        "\n",
        "Implement the Seidel's iteration. \n",
        "\n",
        "Test it on a random matrix. Study the convergence of iterations, relate to the norm of the iteration matrix.\n",
        "\n",
        "(30% of the total grade)"
      ]
    },
    {
      "cell_type": "code",
      "execution_count": 14,
      "metadata": {
        "collapsed": true,
        "id": "FYygs3Ml1Grx"
      },
      "outputs": [],
      "source": [
        "#declarando funcion gauss_seidel_iteration\n",
        "import numpy as np\n",
        "\n",
        "def gauss_seidel_iteration(A, b, num_iterations):\n",
        "    n = A.shape[0]\n",
        "    x = np.zeros(n)  \n",
        "    norms_diff = []\n",
        "    norms_B = []\n",
        "    for _ in range(num_iterations):\n",
        "        x_new = np.zeros(n)\n",
        "        for i in range(n):\n",
        "            x_new[i] = (b[i] - np.dot(A[i, :i], x_new[:i]) - np.dot(A[i, i+1:], x[i+1:])) / A[i, i]\n",
        "        norms_diff.append(np.linalg.norm(x_new - x))\n",
        "        norms_B.append(np.linalg.norm(A - np.tril(A) @ np.triu(A, 1)))\n",
        "\n",
        "        x = x_new\n",
        "\n",
        "    return x, norms_diff, norms_B"
      ]
    },
    {
      "cell_type": "code",
      "source": [
        "#implamentando la funcion podemos aplicar el siguiente ejemplo\n",
        "n = 7 \n",
        "A = np.random.rand(n, n)  \n",
        "b = np.random.rand(n)  \n",
        "num_iterations = 20"
      ],
      "metadata": {
        "id": "_Ut6PreS3iOS"
      },
      "execution_count": 15,
      "outputs": []
    },
    {
      "cell_type": "code",
      "source": [
        "x, diff, norm_B = gauss_seidel_iteration(A, b, num_iterations)\n",
        "print(x)\n",
        "print(diff)\n",
        "print(norm_B)"
      ],
      "metadata": {
        "id": "9O1ayPzf3rYR",
        "colab": {
          "base_uri": "https://localhost:8080/"
        },
        "outputId": "58624a59-b6dc-4d4c-bf58-f641d17fcc7e"
      },
      "execution_count": 16,
      "outputs": [
        {
          "output_type": "stream",
          "name": "stdout",
          "text": [
            "[-4.60808837e+15 -2.57548897e+16  6.46731985e+16 -2.22300005e+16\n",
            " -9.48960122e+15  1.09740570e+17 -4.14557468e+16]\n",
            "[4.200308349132486, 44.96420933430711, 364.92182404563704, 2711.664689262259, 19585.668772369507, 140072.3093500574, 998242.3567374678, 7105074.569337129, 50547790.92225247, 359553646.25572413, 2557402885.3921027, 18189684719.606625, 129374230055.61836, 920172286545.4698, 6544704958771.381, 46549051366625.914, 331078926319228.25, 2354790202648868.5, 1.6748383420674896e+16, 1.1912243608633808e+17]\n",
            "[3.6084255803323213, 3.6084255803323213, 3.6084255803323213, 3.6084255803323213, 3.6084255803323213, 3.6084255803323213, 3.6084255803323213, 3.6084255803323213, 3.6084255803323213, 3.6084255803323213, 3.6084255803323213, 3.6084255803323213, 3.6084255803323213, 3.6084255803323213, 3.6084255803323213, 3.6084255803323213, 3.6084255803323213, 3.6084255803323213, 3.6084255803323213, 3.6084255803323213]\n"
          ]
        }
      ]
    },
    {
      "cell_type": "markdown",
      "metadata": {
        "id": "y3PDxY8W1Gry"
      },
      "source": [
        "# III. Minimum residual scheme"
      ]
    },
    {
      "cell_type": "markdown",
      "metadata": {
        "id": "IbfUD6zy1Gry"
      },
      "source": [
        "### Task III.1\n",
        "\n",
        "Implement the $\\textit{minimum residual}$ scheme: an explicit non-stationary method, where at each step you select the iteration parameter $\\tau_n$ to minimize the residual $\\mathbf{r}_{n+1}$ given $\\mathbf{r}_n$. Test it on a random matrix, study the convergence to the solution, in terms of the norm of the residual and the deviation from the ground truth solution (which you can obtain using a direct method). Study how the iteration parameter $\\tau_n$ changes as iterations progress.\n",
        "\n",
        "(50% of the grade)"
      ]
    },
    {
      "cell_type": "code",
      "execution_count": 17,
      "metadata": {
        "collapsed": true,
        "id": "60_IGETi1Gry"
      },
      "outputs": [],
      "source": [
        "# ... ENTER YOUR CODE HERE ...\n",
        "#declarando la funcion minres_scheme\n",
        "def minres_scheme(A, b, num_iterations):\n",
        "    n = A.shape[0]\n",
        "    x = np.zeros(n)  \n",
        "    r = b - A @ x  \n",
        "    p = r.copy()  \n",
        "    norms_resid = []\n",
        "    norms_deviation = []\n",
        "    tau_values = []\n",
        "\n",
        "    for k in range(num_iterations):\n",
        "        Ap = A @ p\n",
        "        denom = np.dot(p, Ap)\n",
        "        if denom == 0:\n",
        "            break\n",
        "        tau = np.dot(r, Ap) / denom\n",
        "        x_new = x + tau * p\n",
        "        r_new = r - tau * Ap\n",
        "        norms_resid.append(np.linalg.norm(r_new))\n",
        "        norms_deviation.append(np.linalg.norm(x_new - x))\n",
        "        tau_values.append(tau)\n",
        "        x = x_new\n",
        "        r = r_new\n",
        "        beta = np.linalg.norm(r)\n",
        "        p = r + (beta / np.linalg.norm(r)) * p\n",
        "\n",
        "    return x, norms_resid, norms_deviation, tau_values"
      ]
    },
    {
      "cell_type": "code",
      "source": [
        "#aplicando el mismo ejemplo que Task II\n",
        "#implamentando la funcion podemos aplicar el siguiente ejemplo\n",
        "n = 7 \n",
        "A = np.random.rand(n, n)  \n",
        "b = np.random.rand(n)  \n",
        "num_iterations = 20"
      ],
      "metadata": {
        "id": "Tax1oUf94KaF"
      },
      "execution_count": 18,
      "outputs": []
    },
    {
      "cell_type": "code",
      "source": [
        "x_ground_truth = np.linalg.solve(A, b)\n",
        "print(x_ground_truth)\n",
        "x_minres, norms_resid, norms_deviation, tau_values = minres_scheme(A, b, num_iterations)\n",
        "print(x_minres)\n",
        "print(norms_resid)\n",
        "print(norms_deviation)\n",
        "print(tau_values)"
      ],
      "metadata": {
        "id": "f3EVJysg4THb",
        "colab": {
          "base_uri": "https://localhost:8080/"
        },
        "outputId": "617a14ca-6ac1-4fa1-d0d0-795bcf4d6cf1"
      },
      "execution_count": 19,
      "outputs": [
        {
          "output_type": "stream",
          "name": "stdout",
          "text": [
            "[ 1.63043583  1.75115962  0.23024805  0.8772116  -0.7806483  -1.46276723\n",
            " -1.70820815]\n",
            "[-59428482.56773216 -73277902.7420925  -44030882.89636743\n",
            "  41535384.1705648  -30685906.40937547  36304824.23075284\n",
            "  16178421.48749717]\n",
            "[2.5529529112060882, 8.536012696174675, 14.010818550701055, 983.3156460190081, 1708.862236654351, 4309.922158660675, 8974.404271913014, 17153.8025625905, 42783.263238991916, 69820.7982148689, 163213.72443860068, 331236.76769136154, 650753.6713897646, 1713512.873080285, 2635268.012653901, 6717945.228802531, 12450216.360741388, 28608450.374178737, 71068406.99113181, 107246999.10227348]\n",
            "[1.4833104103634185, 6.134898317259387, 10.944228194956283, 734.9256265327731, 985.5591300180178, 2444.8619796721014, 4679.759308526854, 11992.09078788518, 23430.526365682374, 50285.700480880216, 95851.34263189188, 182756.94827417217, 464025.8791182982, 978170.0841532873, 2101579.7891546437, 4382407.97266955, 7480742.9621521635, 21008424.29773389, 41332086.724981725, 96510804.0668141]\n",
            "[1.0, 2.2514538932740304, 1.2247913482045447, 42.02222810241287, 1.002028832388067, 2.1722195697050557, 1.2181607213955803, 1.6960497421166942, 1.5101049610883686, 1.3092325725762457, 1.746585736516201, 1.2741262234119568, 1.6895262697282953, 1.5548261409033053, 1.2730176400423039, 1.85709948684453, 1.1812724448666367, 1.9662483348123627, 1.4088953461883282, 1.339569289505444]\n"
          ]
        }
      ]
    }
  ],
  "metadata": {
    "kernelspec": {
      "display_name": "Python 3",
      "language": "python",
      "name": "python3"
    },
    "language_info": {
      "codemirror_mode": {
        "name": "ipython",
        "version": 3
      },
      "file_extension": ".py",
      "mimetype": "text/x-python",
      "name": "python",
      "nbconvert_exporter": "python",
      "pygments_lexer": "ipython3",
      "version": "3.5.2"
    },
    "colab": {
      "provenance": []
    }
  },
  "nbformat": 4,
  "nbformat_minor": 0
}